{
 "cells": [
  {
   "cell_type": "markdown",
   "metadata": {},
   "source": [
    "# Data Wrangling"
   ]
  },
  {
   "cell_type": "code",
   "execution_count": 1,
   "metadata": {},
   "outputs": [],
   "source": [
    "from bs4 import BeautifulSoup\n",
    "from selenium import webdriver\n",
    "from selenium.webdriver.support.ui import Select\n",
    "from selenium.webdriver.common.by import By\n",
    "from selenium.webdriver.support.ui import WebDriverWait\n",
    "from selenium.webdriver.support import expected_conditions as EC\n",
    "import pandas as pd\n",
    "import numpy as np\n",
    "import requests"
   ]
  },
  {
   "cell_type": "markdown",
   "metadata": {},
   "source": [
    "## Gather"
   ]
  },
  {
   "cell_type": "markdown",
   "metadata": {},
   "source": [
    "### Scrape BMO mutual funds [the site](https://www.bmo.com/home/personal/banking/investments/mutual-funds/navigator/funds/mutual-funds-list/funds-overview\")\n",
    "\n",
    "The website lists all BMO mutuals in the market. Since it is in a tabular format (`tr` and `td` tags), it's easy to parse the HTML and extract the data. Here is a quick summary of the process:\n",
    "\n",
    "1. Create a Chrome driver using `Selenium`, and go to the specified URL.\n",
    "2. Parse the HTML, and find all `tr` tags with the `valign` attribute set to `center`.\n",
    "3. Extract data from each `tr` into a list. \n",
    "4. Convert the list into a Pandas DataFrame."
   ]
  },
  {
   "cell_type": "code",
   "execution_count": 2,
   "metadata": {},
   "outputs": [],
   "source": [
    "def extractData():\n",
    "    \"\"\"Extracts the data from the BMO website.\n",
    "    \n",
    "    Returns:\n",
    "        A list of dictionary\n",
    "    \"\"\"\n",
    "\n",
    "    # create a list to store cleaned data\n",
    "    results = list()\n",
    "    \n",
    "    # wait until the tr appear\n",
    "    trs = WebDriverWait(driver, 10).until(\n",
    "        EC.presence_of_all_elements_located((By.XPATH, '//tr[@valign=\"center\"]'))\n",
    "    )\n",
    "    \n",
    "    for tr in trs:\n",
    "    \n",
    "        # the BMO fund ID\n",
    "        fundID = tr.get_attribute('id')\n",
    "        fundID = fundID.rsplit(\"_\")[-1]\n",
    "\n",
    "        # locate the <a> and extract href\n",
    "        profileURL = tr.find_element_by_tag_name('a').get_attribute('href')    \n",
    "\n",
    "        # the attribtues are stored in the listCellWithBorders class\n",
    "        # find them all, and extract text\n",
    "\n",
    "        attrs = tr.find_elements_by_class_name('listCellWithBorders')\n",
    "        fundName, _, price, assetClass, assets, dateCreated = list(map(lambda x: x.text, attrs))\n",
    "\n",
    "        # insert the data into the list\n",
    "        results.append({\n",
    "            'Fund ID': fundID,\n",
    "            'Fund Name': fundName,\n",
    "            'Price': price,\n",
    "            'Asset Class': assetClass,\n",
    "            'Date Started': dateCreated,\n",
    "            'Fund Profile': profileURL\n",
    "        })\n",
    "        \n",
    "    return results"
   ]
  },
  {
   "cell_type": "code",
   "execution_count": 3,
   "metadata": {},
   "outputs": [],
   "source": [
    "url = 'https://www.bmo.com/home/personal/banking/investments/mutual-funds/navigator/funds/mutual-funds-list/funds-overview'"
   ]
  },
  {
   "cell_type": "code",
   "execution_count": 4,
   "metadata": {},
   "outputs": [],
   "source": [
    "driver = webdriver.Chrome('./chromedriver')\n",
    "driver.get(url)"
   ]
  },
  {
   "cell_type": "code",
   "execution_count": 5,
   "metadata": {
    "scrolled": true
   },
   "outputs": [],
   "source": [
    "bmo = extractData()"
   ]
  },
  {
   "cell_type": "markdown",
   "metadata": {},
   "source": [
    "###  Scrape BMO portfolios \n",
    "\n",
    "The portfolio data is under the drop-down at the top right. The code below does the following actions:\n",
    "\n",
    "1. Locate the drop-down.\n",
    "2. Go to each option in the drop-down, and extract the data.\n",
    "3. Append the data to the original list"
   ]
  },
  {
   "cell_type": "code",
   "execution_count": 6,
   "metadata": {},
   "outputs": [],
   "source": [
    "# skip the first two options\n",
    "page_index = 3 "
   ]
  },
  {
   "cell_type": "code",
   "execution_count": 7,
   "metadata": {},
   "outputs": [],
   "source": [
    "while page_index < 10:\n",
    "    \n",
    "    # locate the drop-down     \n",
    "    select = Select(driver.find_element_by_id('portfolio'))\n",
    "    select.select_by_index(page_index)\n",
    "    \n",
    "    # increment the page counter     \n",
    "    page_index += 1\n",
    "    \n",
    "    # append new data to the original list\n",
    "    bmo += extractData()"
   ]
  },
  {
   "cell_type": "code",
   "execution_count": 8,
   "metadata": {},
   "outputs": [],
   "source": [
    "driver.quit()"
   ]
  },
  {
   "cell_type": "code",
   "execution_count": 9,
   "metadata": {},
   "outputs": [],
   "source": [
    "# conver the data into a pandas dataframe\n",
    "bmo = pd.DataFrame(bmo)"
   ]
  },
  {
   "cell_type": "markdown",
   "metadata": {},
   "source": [
    "## Assess"
   ]
  },
  {
   "cell_type": "code",
   "execution_count": 10,
   "metadata": {},
   "outputs": [
    {
     "data": {
      "text/html": [
       "<div>\n",
       "<style scoped>\n",
       "    .dataframe tbody tr th:only-of-type {\n",
       "        vertical-align: middle;\n",
       "    }\n",
       "\n",
       "    .dataframe tbody tr th {\n",
       "        vertical-align: top;\n",
       "    }\n",
       "\n",
       "    .dataframe thead th {\n",
       "        text-align: right;\n",
       "    }\n",
       "</style>\n",
       "<table border=\"1\" class=\"dataframe\">\n",
       "  <thead>\n",
       "    <tr style=\"text-align: right;\">\n",
       "      <th></th>\n",
       "      <th>Fund ID</th>\n",
       "      <th>Fund Name</th>\n",
       "      <th>Price</th>\n",
       "      <th>Asset Class</th>\n",
       "      <th>Date Started</th>\n",
       "      <th>Fund Profile</th>\n",
       "    </tr>\n",
       "  </thead>\n",
       "  <tbody>\n",
       "    <tr>\n",
       "      <th>0</th>\n",
       "      <td>17705</td>\n",
       "      <td>BMO Money Market Fund</td>\n",
       "      <td>$1.0000</td>\n",
       "      <td>Canadian Money Market</td>\n",
       "      <td>05/1988</td>\n",
       "      <td>https://www.bmo.com/home/personal/banking/inve...</td>\n",
       "    </tr>\n",
       "    <tr>\n",
       "      <th>1</th>\n",
       "      <td>88977</td>\n",
       "      <td>BMO Money Market Fund Series M (formerly BMO M...</td>\n",
       "      <td>$1.0000</td>\n",
       "      <td>Canadian Money Market</td>\n",
       "      <td>04/2012</td>\n",
       "      <td>https://www.bmo.com/home/personal/banking/inve...</td>\n",
       "    </tr>\n",
       "    <tr>\n",
       "      <th>2</th>\n",
       "      <td>17695</td>\n",
       "      <td>BMO Bond Fund</td>\n",
       "      <td>$13.8541</td>\n",
       "      <td>Canadian Fixed Income</td>\n",
       "      <td>05/1988</td>\n",
       "      <td>https://www.bmo.com/home/personal/banking/inve...</td>\n",
       "    </tr>\n",
       "    <tr>\n",
       "      <th>3</th>\n",
       "      <td>63123</td>\n",
       "      <td>BMO Diversified Income Portfolio</td>\n",
       "      <td>$6.4430</td>\n",
       "      <td>Global Neutral Balanced</td>\n",
       "      <td>06/2006</td>\n",
       "      <td>https://www.bmo.com/home/personal/banking/inve...</td>\n",
       "    </tr>\n",
       "    <tr>\n",
       "      <th>4</th>\n",
       "      <td>93718</td>\n",
       "      <td>BMO Diversified Income Portfolio Series R</td>\n",
       "      <td>$4.0128</td>\n",
       "      <td>Global Neutral Balanced</td>\n",
       "      <td>03/2013</td>\n",
       "      <td>https://www.bmo.com/home/personal/banking/inve...</td>\n",
       "    </tr>\n",
       "  </tbody>\n",
       "</table>\n",
       "</div>"
      ],
      "text/plain": [
       "  Fund ID                                          Fund Name     Price  \\\n",
       "0   17705                             BMO Money Market Fund    $1.0000   \n",
       "1   88977  BMO Money Market Fund Series M (formerly BMO M...   $1.0000   \n",
       "2   17695                                     BMO Bond Fund   $13.8541   \n",
       "3   63123                  BMO Diversified Income Portfolio    $6.4430   \n",
       "4   93718         BMO Diversified Income Portfolio Series R    $4.0128   \n",
       "\n",
       "               Asset Class Date Started  \\\n",
       "0    Canadian Money Market      05/1988   \n",
       "1    Canadian Money Market      04/2012   \n",
       "2    Canadian Fixed Income      05/1988   \n",
       "3  Global Neutral Balanced      06/2006   \n",
       "4  Global Neutral Balanced      03/2013   \n",
       "\n",
       "                                        Fund Profile  \n",
       "0  https://www.bmo.com/home/personal/banking/inve...  \n",
       "1  https://www.bmo.com/home/personal/banking/inve...  \n",
       "2  https://www.bmo.com/home/personal/banking/inve...  \n",
       "3  https://www.bmo.com/home/personal/banking/inve...  \n",
       "4  https://www.bmo.com/home/personal/banking/inve...  "
      ]
     },
     "execution_count": 10,
     "metadata": {},
     "output_type": "execute_result"
    }
   ],
   "source": [
    "bmo.head()"
   ]
  },
  {
   "cell_type": "markdown",
   "metadata": {},
   "source": [
    "## Clean"
   ]
  },
  {
   "cell_type": "markdown",
   "metadata": {},
   "source": [
    "#### Define"
   ]
  },
  {
   "cell_type": "markdown",
   "metadata": {},
   "source": [
    "#### Code"
   ]
  },
  {
   "cell_type": "code",
   "execution_count": null,
   "metadata": {},
   "outputs": [],
   "source": []
  },
  {
   "cell_type": "markdown",
   "metadata": {},
   "source": [
    "#### Test"
   ]
  },
  {
   "cell_type": "code",
   "execution_count": null,
   "metadata": {},
   "outputs": [],
   "source": []
  }
 ],
 "metadata": {
  "kernelspec": {
   "display_name": "Python 3",
   "language": "python",
   "name": "python3"
  },
  "language_info": {
   "codemirror_mode": {
    "name": "ipython",
    "version": 3
   },
   "file_extension": ".py",
   "mimetype": "text/x-python",
   "name": "python",
   "nbconvert_exporter": "python",
   "pygments_lexer": "ipython3",
   "version": "3.7.9"
  }
 },
 "nbformat": 4,
 "nbformat_minor": 2
}
