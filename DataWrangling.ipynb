{
 "cells": [
  {
   "cell_type": "markdown",
   "metadata": {},
   "source": [
    "# Data Wrangling"
   ]
  },
  {
   "cell_type": "code",
   "execution_count": 1,
   "metadata": {},
   "outputs": [],
   "source": [
    "from bs4 import BeautifulSoup\n",
    "from selenium import webdriver\n",
    "from selenium.webdriver.support.ui import Select\n",
    "from selenium.webdriver.common.by import By\n",
    "from selenium.webdriver.support.ui import WebDriverWait\n",
    "from selenium.webdriver.support import expected_conditions as EC\n",
    "import pandas as pd\n",
    "import numpy as np\n",
    "import requests\n",
    "import time\n",
    "import random"
   ]
  },
  {
   "cell_type": "markdown",
   "metadata": {},
   "source": [
    "## Gather"
   ]
  },
  {
   "cell_type": "markdown",
   "metadata": {},
   "source": [
    "### Scrape BMO mutual funds [the site](https://www.bmo.com/home/personal/banking/investments/mutual-funds/navigator/funds/mutual-funds-list/funds-overview\")\n",
    "\n",
    "The website lists all BMO mutual funds in the market. Since it is in a tabular format (`tr` and `td` tags), it's easy to parse the HTML and extract the data. Here is a quick summary of the process:\n",
    "\n",
    "1. Create a Chrome driver using `Selenium`, and go to the specified URL.\n",
    "2. Parse the HTML, and find all `tr` tags with the `valign` attribute set to `center`.\n",
    "3. Extract data from each `tr` into a list. \n",
    "4. Convert the list into a Pandas DataFrame."
   ]
  },
  {
   "cell_type": "code",
   "execution_count": 2,
   "metadata": {},
   "outputs": [],
   "source": [
    "def extractData():\n",
    "    \"\"\"Extracts the data from the BMO website.\n",
    "    \n",
    "    Returns:\n",
    "        A list of dictionary\n",
    "    \"\"\"\n",
    "\n",
    "    # create a list to store cleaned data\n",
    "    results = list()\n",
    "    \n",
    "    # wait until the tr appear\n",
    "    trs = WebDriverWait(driver, 10).until(\n",
    "        EC.presence_of_all_elements_located((By.XPATH, '//tr[@valign=\"center\"]'))\n",
    "    )\n",
    "    \n",
    "    for tr in trs:\n",
    "    \n",
    "        # the BMO fund ID\n",
    "        fundID = tr.get_attribute('id')\n",
    "        fundID = fundID.rsplit(\"_\")[-1]\n",
    "\n",
    "        # locate the <a> and extract href\n",
    "        profileURL = tr.find_element_by_tag_name('a').get_attribute('href')    \n",
    "\n",
    "        # the attribtues are stored in the listCellWithBorders class\n",
    "        # find them all, and extract text\n",
    "\n",
    "        attrs = tr.find_elements_by_class_name('listCellWithBorders')\n",
    "        fundName, _, price, assetClass, assets, dateCreated = list(map(lambda x: x.text, attrs))\n",
    "\n",
    "        # insert the data into the list\n",
    "        results.append({\n",
    "            'Fund ID': fundID,\n",
    "            'Fund Name': fundName,\n",
    "            'Price': price,\n",
    "            'Asset Class': assetClass,\n",
    "            'Assets': assets,\n",
    "            'Date Started': dateCreated,\n",
    "            'Fund Profile': profileURL\n",
    "        })\n",
    "        \n",
    "    return results"
   ]
  },
  {
   "cell_type": "code",
   "execution_count": 3,
   "metadata": {},
   "outputs": [],
   "source": [
    "url = 'https://www.bmo.com/home/personal/banking/investments/mutual-funds/navigator/funds/mutual-funds-list/funds-overview'"
   ]
  },
  {
   "cell_type": "code",
   "execution_count": 4,
   "metadata": {},
   "outputs": [],
   "source": [
    "driver = webdriver.Chrome('./chromedriver')\n",
    "driver.get(url)"
   ]
  },
  {
   "cell_type": "code",
   "execution_count": 5,
   "metadata": {
    "scrolled": true
   },
   "outputs": [],
   "source": [
    "bmo = extractData()"
   ]
  },
  {
   "cell_type": "markdown",
   "metadata": {},
   "source": [
    "###  Scrape BMO portfolios \n",
    "\n",
    "The portfolio data is under the drop-down at the top right. The code below does the following actions:\n",
    "\n",
    "1. Locate the drop-down.\n",
    "2. Go to each option in the drop-down, and extract the data.\n",
    "3. Append the data to the original list"
   ]
  },
  {
   "cell_type": "code",
   "execution_count": 6,
   "metadata": {},
   "outputs": [],
   "source": [
    "# skip the first two options\n",
    "page_index = 3 "
   ]
  },
  {
   "cell_type": "code",
   "execution_count": 7,
   "metadata": {},
   "outputs": [],
   "source": [
    "while page_index < 10:\n",
    "    \n",
    "    # locate the drop-down     \n",
    "    select = Select(driver.find_element_by_id('portfolio'))\n",
    "    select.select_by_index(page_index)\n",
    "    \n",
    "    # increment the page counter     \n",
    "    page_index += 1\n",
    "    \n",
    "    # append new data to the original list\n",
    "    bmo += extractData()"
   ]
  },
  {
   "cell_type": "code",
   "execution_count": 8,
   "metadata": {},
   "outputs": [],
   "source": [
    "driver.quit()"
   ]
  },
  {
   "cell_type": "code",
   "execution_count": 9,
   "metadata": {},
   "outputs": [],
   "source": [
    "# conver the data into a pandas dataframe\n",
    "bmo = pd.DataFrame(bmo)"
   ]
  },
  {
   "cell_type": "markdown",
   "metadata": {},
   "source": [
    "### Extract Historical Price\n",
    "\n",
    "Now, we already have a Data Frame that contains the basic information about all BMO Mutual Funds. However, the price column represents the latest price. It would be great if we can collect all historical data. After inspecting the following URL: `https://bmomf.lipperweb.com/Profile/HistoryView?symbol=45121:17695&tab=History&timeFrame=Year&interval=0&period=1&startDate=&endDate=&isTimePeriodChange=true&lang=en`, I figure out the pattern to retrieve the recorded information. The URL consists of the following components:\n",
    "\n",
    "1. The base URL: `https://bmomf.lipperweb.com/Profile/HistoryView`\n",
    "2. The query strings:\n",
    "    \n",
    "    * symbol: 45121:17695\n",
    "    * etc.\n",
    "\n",
    "Noted that 17695 is the Fund ID, and the code 45121 never changes. If we request this URL by iterating all our fund IDs, we can get all historical prices. Here is the code:"
   ]
  },
  {
   "cell_type": "code",
   "execution_count": 10,
   "metadata": {},
   "outputs": [],
   "source": [
    "# specify the parameters and headers for the HTTP get request\n",
    "params = {\n",
    "    \"symbol\": \"\",\n",
    "    \"tab\": \"History\",\n",
    "    \"timeFrame\": \"Year\",\n",
    "    \"interval\": \"0\",\n",
    "    \"period\": \"1\",\n",
    "    \"startDate\": \"\",\n",
    "    \"endDate\": \"\",\n",
    "    \"isTimePeriodChange\": True,\n",
    "    \"lang\": \"en\",\n",
    "}\n",
    "\n",
    "headers = {\n",
    "    \"Accept\": \"text/html, */*; q=0.01\",\n",
    "    \"Accept-Encoding\": \"gzip, deflate, br\",\n",
    "    \"Accept-Language\": \"en-US,en;q=0.9\",\n",
    "    \"Connection\": \"keep-alive\",\n",
    "    \"Cookie\": \"_ga=GA1.2.1526468817.1615351851; _gid=GA1.2.881144454.1615351851; _gat=1\",\n",
    "    \"Host\": \"bmomf.lipperweb.com\",\n",
    "    \"Referer\": \"https://bmomf.lipperweb.com/bmomf/profile/?symbol=45121:94792&lang=en\",\n",
    "    \"Sec-Fetch-Dest\": \"empty\",\n",
    "    \"Sec-Fetch-Mode\": \"cors\",\n",
    "    \"Sec-Fetch-Site\": \"same-origin\",\n",
    "    \"User-Agent\": \"Mozilla/5.0 (Macintosh; Intel Mac OS X 10_15_7) AppleWebKit/537.36 (KHTML, like Gecko) Chrome/89.0.4389.82 Safari/537.36\",\n",
    "    \"X-Requested-With\": \"XMLHttpRequest\",\n",
    "}"
   ]
  },
  {
   "cell_type": "code",
   "execution_count": 11,
   "metadata": {},
   "outputs": [],
   "source": [
    "baseURL = 'https://bmomf.lipperweb.com/Profile/HistoryView'"
   ]
  },
  {
   "cell_type": "code",
   "execution_count": 12,
   "metadata": {},
   "outputs": [],
   "source": [
    "results = list()"
   ]
  },
  {
   "cell_type": "code",
   "execution_count": 13,
   "metadata": {
    "scrolled": true
   },
   "outputs": [
    {
     "name": "stdout",
     "output_type": "stream",
     "text": [
      "BMO Money Market Fund \n",
      "BMO Money Market Fund Series M (formerly BMO Money Market Premium Series) \n",
      "BMO Bond Fund \n",
      "BMO Diversified Income Portfolio \n",
      "BMO Diversified Income Portfolio Series R \n",
      "BMO Diversified Income Portfolio Series T6 \n",
      "BMO Emerging Markets Bond Fund \n",
      "BMO Floating Rate Income Fund (as of Jun 25, 2021)\n",
      "BMO Global Monthly Income Fund \n",
      "BMO Global Monthly Income Fund Series R \n",
      "BMO Global Monthly Income Fund Series T6 \n",
      "BMO Global Strategic Bond Fund \n",
      "BMO Monthly High Income Fund II \n",
      "BMO Monthly Income Fund \n",
      "BMO Monthly Income series R \n",
      "BMO Monthly Income Fund Series T6 \n",
      "BMO Mortgage & Short-Term Income Fund \n",
      "BMO Preferred Share Fund \n",
      "BMO U.S. High Yield Bond Fund \n",
      "BMO World Bond Fund \n",
      "BMO Core Bond Fund \n",
      "BMO Core Plus Bond Fund \n",
      "BMO US Dollar Monthly Income Fund (CAD$) \n",
      "BMO Tactical Global Bond ETF Fund \n",
      "BMO Concentrated Global Balanced Fund Series T6 \n",
      "BMO Concentrated Global Balanced Fund Series A \n",
      "BMO Global Growth & Income Fund Series A \n",
      "BMO Global Multi-Sector Bond Fund \n",
      "BMO Crossover Bond Fund \n",
      "BMO Asian Growth & Income Fund Series A \n",
      "BMO Asset Allocation Fund \n",
      "BMO Canadian Equity Class \n",
      "BMO Canadian Equity ETF Fund \n",
      "BMO Canadian Equity Fund - A \n",
      "BMO Canadian Large Cap Equity Fund \n",
      "BMO Canadian Stock Selection Fund \n",
      "BMO Dividend Class \n",
      "BMO Dividend Fund \n",
      "BMO European Fund \n",
      "BMO Global Dividend Class \n",
      "BMO Global Dividend Fund \n",
      "BMO Global Equity Class \n",
      "BMO Global Infrastructure Fund \n",
      "BMO Global Low Volatility ETF Class \n",
      "BMO International Equity ETF Fund \n",
      "BMO International Value Class \n",
      "BMO International Value Fund \n",
      "BMO North American Dividend Fund \n",
      "BMO Tactical Dividend ETF Fund \n",
      "BMO U.S. Equity ETF Fund \n",
      "BMO U.S. Equity Fund \n",
      "BMO U.S. Dividend Fund \n",
      "BMO Global Balanced Fund \n",
      "BMO U.S. Equity Plus \n",
      "BMO US Dollar Dividend Fund (CAD$) \n",
      "BMO US Dollar Balanced Fund (CAD$) \n",
      "BMO Growth Opportunities Fund \n",
      "BMO Tactical Balanced ETF Fund \n",
      "BMO Tactical Global Equity ETF Fund \n",
      "BMO Global Equity Fund \n",
      "BMO Global Equity Fund Series T6 \n",
      "BMO Asian Growth & Income Fund Series T6 \n",
      "BMO Tactical Global Equity ETF Fund Series T6 \n",
      "BMO Tactical Dividend ETF Fund Series T6 \n",
      "BMO European Fund Series T6 \n",
      "BMO North American Dividend Fund Series T6 \n",
      "BMO Tactical Global Growth ETF Fund \n",
      "BMO Tactical Global Asset Allocation ETF Fund \n",
      "BMO Women in Leadership Fund \n",
      "BMO Sustainable Opportunities Global Equity Fund \n",
      "BMO Covered Call Canadian Banks ETF Fund \n",
      "BMO Covered Call U.S. High Dividend ETF Fund \n",
      "BMO Covered Call Europe High Dividend ETF Fund \n",
      "BMO U.S. Equity Series A (Hedged) \n",
      "BMO International Equity Fund \n",
      "BMO Japan Fund \n",
      "BMO Concentrated Global Equity Fund \n",
      "BMO Multi-Factor Equity Fund \n",
      "BMO Covered Call Canada High Dividend ETF Fund \n",
      "BMO SIA Focused Canadian Equity Fund \n",
      "BMO SIA Focused North American Equity Fund \n",
      "BMO Concentrated U.S. Equity Fund \n",
      "BMO Low Volatility Canadian Equity ETF Fund \n",
      "BMO Concentrated Global Equity Fund Series T6 \n",
      "BMO Low Volatility U.S. Equity ETF Fund \n",
      "BMO Low Volatility U.S. Equity ETF Fund Series T4 \n",
      "BMO Sustainable Opportunities Canadian Equity Fund \n",
      "BMO Canadian Small Cap Equity Fund \n",
      "BMO Emerging Markets Fund \n",
      "BMO Global Energy Class \n",
      "BMO Global Small Cap Fund Series A \n",
      "BMO Greater China Class \n",
      "BMO Precious Metals Fund \n",
      "BMO Resource Fund \n",
      "BMO U.S. Small Cap Fund \n",
      "BMO U.S. Dollar Balanced Fund \n",
      "BMO U.S. Dollar Dividend Fund \n",
      "BMO U.S. Dollar Equity Index Fund \n",
      "BMO U.S. Dollar Money Market Fund \n",
      "BMO U.S. Dollar Monthly Income Fund \n",
      "BMO U.S. Dollar Monthly Income Fund Series R \n",
      "BMO U.S. Dollar Monthly Income Fund Series T6 \n",
      "BMO U.S. Equity Fund (US$) \n",
      "BMO US Equity Plus Fund (US$) \n",
      "BMO Global Dividend Fund (US$) \n",
      "BMO North American Dividend Fund (US$) \n",
      "BMO LifeStage Plus 2022 Fund \n",
      "BMO LifeStage Plus 2025 Fund \n",
      "BMO LifeStage Plus 2026 Fund \n",
      "BMO LifeStage Plus 2030 Fund \n",
      "\n",
      "\n",
      "\n",
      "\n",
      "\n",
      "\n",
      "\n",
      "\n",
      "\n",
      "\n",
      "\n",
      "\n",
      "\n",
      "\n",
      "\n",
      "\n",
      "\n",
      "\n",
      "\n",
      "BMO FundSelect Income Portfolio (formerly BMO FundSelect Security Portfolio) \n",
      "BMO FundSelect® Balanced Portfolio \n",
      "BMO FundSelect® Growth Portfolio \n",
      "BMO FundSelect® Equity Growth Portfolio \n",
      "BMO Fixed Income ETF Portfolio \n",
      "BMO Income ETF Portfolio † (formerly BMO Security ETF Portfolio) \n",
      "BMO Conservative ETF Portfolio \n",
      "BMO Balanced ETF Portfolio \n",
      "BMO Growth ETF Portfolio \n",
      "BMO Equity Growth ETF Portfolio \n",
      "BMO Income ETF Portfolio Class (formerly BMO Security ETF Portfolio Class) \n",
      "BMO Balanced ETF Portfolio Class \n",
      "BMO Growth ETF Portfolio Class \n",
      "BMO Equity Growth ETF Portfolio Class  \n",
      "BMO Income ETF Portfolio Class - Series T6 (formerly BMO Security ETF Portfolio Class) \n",
      "BMO Balanced ETF Portfolio Class - Series T6 \n",
      "BMO Growth ETF Portfolio Class - Series T6 \n",
      "BMO Equity Growth ETF Portfolio Class - Series T6 \n",
      "BMO Income ETF Portfolio Series T6 † (formerly BMO Security ETF Portfolio) \n",
      "BMO Balanced ETF Portfolio Series T6 \n",
      "BMO Conservative ETF Portfolio Series T6 \n",
      "BMO Equity Growth ETF Portfolio Series T6 \n",
      "BMO Growth ETF Portfolio series T6 \n",
      "BMO Fixed Income ETF Portfolio Series T6 \n",
      "BMO USD Income ETF Portfolio Series T6 \n",
      "BMO USD Income ETF Portfolio \n",
      "BMO USD Conservative ETF Portfolio T6 \n",
      "BMO USD Conservative ETF Portfolio \n",
      "BMO USD Balanced ETF Portfolio Series T6 \n",
      "BMO USD Balanced ETF Portfolio \n",
      "BMO SelectTrust Fixed Income Portfolio \n",
      "BMO SelectTrust Income Portfolio \n",
      "BMO SelectTrust Conservative Portfolio \n",
      "BMO SelectTrust Balanced Portfolio \n",
      "BMO SelectTrust Growth Portfolio \n",
      "BMO SelectTrust Equity Growth Portfolio \n",
      "BMO SelectTrust Balanced Portfolio Series T6 \n",
      "BMO SelectTrust Conservative Portfolio Series T6 \n",
      "BMO SelectTrust Equity Growth Portfolio Series T6 \n",
      "BMO SelectTrust Fixed Income Portfolio Series T6 \n",
      "BMO SelectTrust Growth Portfolio Series T6 \n",
      "BMO SelectTrust Income Portfolio - Series T6 † (formerly BMO SelectTrust Security Portfolio)  \n",
      "BMO SelectClass® Income Portfolio (Series A) (formerly BMO SelectClass Security Portfolio) \n",
      "BMO SelectClass® Balanced Portfolio (Series A) \n",
      "BMO SelectClass® Growth Portfolio (Series A) \n",
      "BMO SelectClass Equity Growth Portfolio (Series A) \n",
      "BMO SelectClass® Income Portfolio (Series T6) (formerly BMO SelectClass Security Portfolio) \n",
      "BMO SelectClass® Balanced Portfolio (Series T6) \n",
      "BMO SelectClass® Growth Portfolio (Series T6) \n",
      "BMO SelectClass® Equity Growth Portfolio (Series T6) \n",
      "BMO Target Education Income Portfolio   \n",
      "BMO Target Education 2025 Portfolio \n",
      "BMO Target Education 2030 Portfolio \n",
      "BMO Target Education 2035 Portfolio \n",
      "BMO Target Education 2040 Portfolio Series A \n",
      "BMO Retirement Income Portfolio Series A \n",
      "BMO Retirement Conservative Portfolio Series A \n",
      "BMO Retirement Balanced Portfolio Series A \n",
      "BMO Retirement Income Portfolio Series T4 \n",
      "BMO Retirement Balanced Portfolio Series T4  \n",
      "BMO Retirement Conservative Portfolio Series T4 \n",
      "BMO Retirement Income Portfolio Series T6 \n",
      "BMO Retirement Conservative Portfolio Series T6 \n",
      "BMO Retirement Balanced Portfolio Series T6 \n",
      "BMO Ascent Balanced Portfolio \n",
      "BMO Ascent Equity Growth Portfolio \n",
      "BMO Ascent Conservative Portfolio \n",
      "BMO Ascent Growth Portfolio \n",
      "BMO Ascent Income Portfolio \n",
      "BMO Ascent Income Portfolio Series T6 \n",
      "BMO Ascent Conservative Portfolio Series T6 \n",
      "BMO Ascent Balanced Portfolio Series T6 \n",
      "BMO Ascent Growth Portfolio Series T6 \n",
      "BMO Ascent Equity Growth Portfolio Series T6 \n"
     ]
    }
   ],
   "source": [
    "for index, fund in bmo.iterrows():\n",
    "    \n",
    "    print(fund['Fund Name'])\n",
    "    \n",
    "    # use fstring to replace the value\n",
    "    params['symbol'] = f\"45121:{fund['Fund ID']}\"\n",
    "\n",
    "    # send the request\n",
    "    res = requests.get(baseURL, params=params, headers=headers)\n",
    "    \n",
    "    time.sleep(random.uniform(0.0, 2.0))\n",
    "    \n",
    "    # the response is in HTML format, I use BeautifulSoup to parse it\n",
    "    document = BeautifulSoup(res.content, 'html.parser')\n",
    "    \n",
    "    # the data is stored in the <td></td>. find them all\n",
    "    tds = document.find_all('td', {'style': 'text-align: center;'})\n",
    "    \n",
    "    # extract the inner text for all tds\n",
    "    values = [ td.text.strip() for td in tds ]\n",
    "    \n",
    "    # We have a 1d array, but each data point consists of 6 columns. \n",
    "    # The following code turns every six elements into a list. In \n",
    "    # other words, we are converting the 1d array to a 2d array\n",
    "    # Here is an quick example. Before:\n",
    "    # ['8/25/2021', 13.8073, ..., '8/24/2021', 13.8541, ...]\n",
    "    # After: [['8/25/2021', 13.8073, ...], ['8/24/2021', 13.8541, ...]]\n",
    "    \n",
    "    values = [ [fund['Fund ID']] + values[i:i+6] for i in range(0, len(values), 6)]\n",
    "    \n",
    "    # append the values to the retuslt list\n",
    "    results += values"
   ]
  },
  {
   "cell_type": "code",
   "execution_count": 14,
   "metadata": {},
   "outputs": [],
   "source": [
    "# the column name\n",
    "cols = [\n",
    "    'Fund ID',\n",
    "    'Effective Date',\n",
    "    'NAV',\n",
    "    'Income',\n",
    "    'Capital Gain',\n",
    "    'Total Distribution',\n",
    "    'Reinvestment Price'\n",
    "]\n",
    "\n",
    "# convert the data into a df\n",
    "prices = pd.DataFrame(values, columns=cols)"
   ]
  },
  {
   "cell_type": "markdown",
   "metadata": {},
   "source": [
    "## Assess\n",
    "\n",
    "### Inspect `bmo` & `prices`"
   ]
  },
  {
   "cell_type": "markdown",
   "metadata": {},
   "source": [
    "#### First glance\n",
    "\n",
    "**Issue**: the `Price` and the `Fund Profile` columns in `bmo` is useless."
   ]
  },
  {
   "cell_type": "code",
   "execution_count": 15,
   "metadata": {},
   "outputs": [
    {
     "data": {
      "text/html": [
       "<div>\n",
       "<style scoped>\n",
       "    .dataframe tbody tr th:only-of-type {\n",
       "        vertical-align: middle;\n",
       "    }\n",
       "\n",
       "    .dataframe tbody tr th {\n",
       "        vertical-align: top;\n",
       "    }\n",
       "\n",
       "    .dataframe thead th {\n",
       "        text-align: right;\n",
       "    }\n",
       "</style>\n",
       "<table border=\"1\" class=\"dataframe\">\n",
       "  <thead>\n",
       "    <tr style=\"text-align: right;\">\n",
       "      <th></th>\n",
       "      <th>Fund ID</th>\n",
       "      <th>Fund Name</th>\n",
       "      <th>Price</th>\n",
       "      <th>Asset Class</th>\n",
       "      <th>Assets</th>\n",
       "      <th>Date Started</th>\n",
       "      <th>Fund Profile</th>\n",
       "    </tr>\n",
       "  </thead>\n",
       "  <tbody>\n",
       "    <tr>\n",
       "      <th>0</th>\n",
       "      <td>17705</td>\n",
       "      <td>BMO Money Market Fund</td>\n",
       "      <td>$1.0000</td>\n",
       "      <td>Canadian Money Market</td>\n",
       "      <td>532.1</td>\n",
       "      <td>05/1988</td>\n",
       "      <td>https://www.bmo.com/home/personal/banking/inve...</td>\n",
       "    </tr>\n",
       "    <tr>\n",
       "      <th>1</th>\n",
       "      <td>88977</td>\n",
       "      <td>BMO Money Market Fund Series M (formerly BMO M...</td>\n",
       "      <td>$1.0000</td>\n",
       "      <td>Canadian Money Market</td>\n",
       "      <td>532.1</td>\n",
       "      <td>04/2012</td>\n",
       "      <td>https://www.bmo.com/home/personal/banking/inve...</td>\n",
       "    </tr>\n",
       "  </tbody>\n",
       "</table>\n",
       "</div>"
      ],
      "text/plain": [
       "  Fund ID                                          Fund Name    Price  \\\n",
       "0   17705                             BMO Money Market Fund   $1.0000   \n",
       "1   88977  BMO Money Market Fund Series M (formerly BMO M...  $1.0000   \n",
       "\n",
       "             Asset Class Assets Date Started  \\\n",
       "0  Canadian Money Market  532.1      05/1988   \n",
       "1  Canadian Money Market  532.1      04/2012   \n",
       "\n",
       "                                        Fund Profile  \n",
       "0  https://www.bmo.com/home/personal/banking/inve...  \n",
       "1  https://www.bmo.com/home/personal/banking/inve...  "
      ]
     },
     "execution_count": 15,
     "metadata": {},
     "output_type": "execute_result"
    }
   ],
   "source": [
    "bmo.head(2)"
   ]
  },
  {
   "cell_type": "code",
   "execution_count": 16,
   "metadata": {},
   "outputs": [
    {
     "data": {
      "text/html": [
       "<div>\n",
       "<style scoped>\n",
       "    .dataframe tbody tr th:only-of-type {\n",
       "        vertical-align: middle;\n",
       "    }\n",
       "\n",
       "    .dataframe tbody tr th {\n",
       "        vertical-align: top;\n",
       "    }\n",
       "\n",
       "    .dataframe thead th {\n",
       "        text-align: right;\n",
       "    }\n",
       "</style>\n",
       "<table border=\"1\" class=\"dataframe\">\n",
       "  <thead>\n",
       "    <tr style=\"text-align: right;\">\n",
       "      <th></th>\n",
       "      <th>Fund ID</th>\n",
       "      <th>Effective Date</th>\n",
       "      <th>NAV</th>\n",
       "      <th>Income</th>\n",
       "      <th>Capital Gain</th>\n",
       "      <th>Total Distribution</th>\n",
       "      <th>Reinvestment Price</th>\n",
       "    </tr>\n",
       "  </thead>\n",
       "  <tbody>\n",
       "    <tr>\n",
       "      <th>0</th>\n",
       "      <td>49337</td>\n",
       "      <td>8/27/2021</td>\n",
       "      <td>10.6990</td>\n",
       "      <td>-</td>\n",
       "      <td>-</td>\n",
       "      <td>-</td>\n",
       "      <td>-</td>\n",
       "    </tr>\n",
       "    <tr>\n",
       "      <th>1</th>\n",
       "      <td>49337</td>\n",
       "      <td>8/26/2021</td>\n",
       "      <td>10.6488</td>\n",
       "      <td>-</td>\n",
       "      <td>-</td>\n",
       "      <td>-</td>\n",
       "      <td>-</td>\n",
       "    </tr>\n",
       "  </tbody>\n",
       "</table>\n",
       "</div>"
      ],
      "text/plain": [
       "  Fund ID Effective Date      NAV Income Capital Gain Total Distribution  \\\n",
       "0   49337      8/27/2021  10.6990      -            -                  -   \n",
       "1   49337      8/26/2021  10.6488      -            -                  -   \n",
       "\n",
       "  Reinvestment Price  \n",
       "0                  -  \n",
       "1                  -  "
      ]
     },
     "execution_count": 16,
     "metadata": {},
     "output_type": "execute_result"
    }
   ],
   "source": [
    "prices.head(2)"
   ]
  },
  {
   "cell_type": "markdown",
   "metadata": {},
   "source": [
    "#### Check Data Types & Missing Values"
   ]
  },
  {
   "cell_type": "markdown",
   "metadata": {},
   "source": [
    "**Issue**: Noted that all column types are strings."
   ]
  },
  {
   "cell_type": "code",
   "execution_count": 17,
   "metadata": {
    "scrolled": true
   },
   "outputs": [
    {
     "name": "stdout",
     "output_type": "stream",
     "text": [
      "<class 'pandas.core.frame.DataFrame'>\n",
      "RangeIndex: 203 entries, 0 to 202\n",
      "Data columns (total 7 columns):\n",
      " #   Column        Non-Null Count  Dtype \n",
      "---  ------        --------------  ----- \n",
      " 0   Fund ID       203 non-null    object\n",
      " 1   Fund Name     203 non-null    object\n",
      " 2   Price         203 non-null    object\n",
      " 3   Asset Class   203 non-null    object\n",
      " 4   Assets        203 non-null    object\n",
      " 5   Date Started  203 non-null    object\n",
      " 6   Fund Profile  203 non-null    object\n",
      "dtypes: object(7)\n",
      "memory usage: 11.2+ KB\n"
     ]
    },
    {
     "data": {
      "text/plain": [
       "None"
      ]
     },
     "metadata": {},
     "output_type": "display_data"
    },
    {
     "name": "stdout",
     "output_type": "stream",
     "text": [
      "<class 'pandas.core.frame.DataFrame'>\n",
      "RangeIndex: 260 entries, 0 to 259\n",
      "Data columns (total 7 columns):\n",
      " #   Column              Non-Null Count  Dtype \n",
      "---  ------              --------------  ----- \n",
      " 0   Fund ID             260 non-null    object\n",
      " 1   Effective Date      260 non-null    object\n",
      " 2   NAV                 260 non-null    object\n",
      " 3   Income              260 non-null    object\n",
      " 4   Capital Gain        260 non-null    object\n",
      " 5   Total Distribution  260 non-null    object\n",
      " 6   Reinvestment Price  260 non-null    object\n",
      "dtypes: object(7)\n",
      "memory usage: 14.3+ KB\n"
     ]
    },
    {
     "data": {
      "text/plain": [
       "None"
      ]
     },
     "metadata": {},
     "output_type": "display_data"
    }
   ],
   "source": [
    "display(bmo.info())\n",
    "display(prices.info())"
   ]
  },
  {
   "cell_type": "markdown",
   "metadata": {},
   "source": [
    "**Issue**: missing values shown as empty string: `''`"
   ]
  },
  {
   "cell_type": "code",
   "execution_count": 18,
   "metadata": {
    "scrolled": true
   },
   "outputs": [
    {
     "data": {
      "text/html": [
       "<div>\n",
       "<style scoped>\n",
       "    .dataframe tbody tr th:only-of-type {\n",
       "        vertical-align: middle;\n",
       "    }\n",
       "\n",
       "    .dataframe tbody tr th {\n",
       "        vertical-align: top;\n",
       "    }\n",
       "\n",
       "    .dataframe thead th {\n",
       "        text-align: right;\n",
       "    }\n",
       "</style>\n",
       "<table border=\"1\" class=\"dataframe\">\n",
       "  <thead>\n",
       "    <tr style=\"text-align: right;\">\n",
       "      <th></th>\n",
       "      <th>Fund ID</th>\n",
       "      <th>Fund Name</th>\n",
       "      <th>Price</th>\n",
       "      <th>Asset Class</th>\n",
       "      <th>Assets</th>\n",
       "      <th>Date Started</th>\n",
       "      <th>Fund Profile</th>\n",
       "    </tr>\n",
       "  </thead>\n",
       "  <tbody>\n",
       "    <tr>\n",
       "      <th>110</th>\n",
       "      <td>48462</td>\n",
       "      <td></td>\n",
       "      <td></td>\n",
       "      <td></td>\n",
       "      <td></td>\n",
       "      <td></td>\n",
       "      <td>https://www.bmo.com/home/personal/banking/inve...</td>\n",
       "    </tr>\n",
       "    <tr>\n",
       "      <th>111</th>\n",
       "      <td>48468</td>\n",
       "      <td></td>\n",
       "      <td></td>\n",
       "      <td></td>\n",
       "      <td></td>\n",
       "      <td></td>\n",
       "      <td>https://www.bmo.com/home/personal/banking/inve...</td>\n",
       "    </tr>\n",
       "    <tr>\n",
       "      <th>112</th>\n",
       "      <td>48444</td>\n",
       "      <td></td>\n",
       "      <td></td>\n",
       "      <td></td>\n",
       "      <td></td>\n",
       "      <td></td>\n",
       "      <td>https://www.bmo.com/home/personal/banking/inve...</td>\n",
       "    </tr>\n",
       "  </tbody>\n",
       "</table>\n",
       "</div>"
      ],
      "text/plain": [
       "    Fund ID Fund Name Price Asset Class Assets Date Started  \\\n",
       "110   48462                                                   \n",
       "111   48468                                                   \n",
       "112   48444                                                   \n",
       "\n",
       "                                          Fund Profile  \n",
       "110  https://www.bmo.com/home/personal/banking/inve...  \n",
       "111  https://www.bmo.com/home/personal/banking/inve...  \n",
       "112  https://www.bmo.com/home/personal/banking/inve...  "
      ]
     },
     "execution_count": 18,
     "metadata": {},
     "output_type": "execute_result"
    }
   ],
   "source": [
    "bmo[bmo['Fund Name'] == ''].head(3)"
   ]
  },
  {
   "cell_type": "markdown",
   "metadata": {},
   "source": [
    "**Issue**: missing value shown as `-`"
   ]
  },
  {
   "cell_type": "code",
   "execution_count": 19,
   "metadata": {},
   "outputs": [
    {
     "data": {
      "text/html": [
       "<div>\n",
       "<style scoped>\n",
       "    .dataframe tbody tr th:only-of-type {\n",
       "        vertical-align: middle;\n",
       "    }\n",
       "\n",
       "    .dataframe tbody tr th {\n",
       "        vertical-align: top;\n",
       "    }\n",
       "\n",
       "    .dataframe thead th {\n",
       "        text-align: right;\n",
       "    }\n",
       "</style>\n",
       "<table border=\"1\" class=\"dataframe\">\n",
       "  <thead>\n",
       "    <tr style=\"text-align: right;\">\n",
       "      <th></th>\n",
       "      <th>Income</th>\n",
       "      <th>Capital Gain</th>\n",
       "      <th>Total Distribution</th>\n",
       "      <th>Reinvestment Price</th>\n",
       "    </tr>\n",
       "  </thead>\n",
       "  <tbody>\n",
       "    <tr>\n",
       "      <th>1</th>\n",
       "      <td>-</td>\n",
       "      <td>-</td>\n",
       "      <td>-</td>\n",
       "      <td>-</td>\n",
       "    </tr>\n",
       "    <tr>\n",
       "      <th>2</th>\n",
       "      <td>-</td>\n",
       "      <td>-</td>\n",
       "      <td>-</td>\n",
       "      <td>-</td>\n",
       "    </tr>\n",
       "    <tr>\n",
       "      <th>3</th>\n",
       "      <td>-</td>\n",
       "      <td>-</td>\n",
       "      <td>-</td>\n",
       "      <td>-</td>\n",
       "    </tr>\n",
       "  </tbody>\n",
       "</table>\n",
       "</div>"
      ],
      "text/plain": [
       "  Income Capital Gain Total Distribution Reinvestment Price\n",
       "1      -            -                  -                  -\n",
       "2      -            -                  -                  -\n",
       "3      -            -                  -                  -"
      ]
     },
     "execution_count": 19,
     "metadata": {},
     "output_type": "execute_result"
    }
   ],
   "source": [
    "prices.loc[1:3, 'Income':'Reinvestment Price']"
   ]
  },
  {
   "cell_type": "markdown",
   "metadata": {},
   "source": [
    "#### Check Duplicates"
   ]
  },
  {
   "cell_type": "code",
   "execution_count": 20,
   "metadata": {},
   "outputs": [
    {
     "data": {
      "text/plain": [
       "(0, 0)"
      ]
     },
     "execution_count": 20,
     "metadata": {},
     "output_type": "execute_result"
    }
   ],
   "source": [
    "bmo.duplicated().sum(), prices.duplicated().sum() "
   ]
  },
  {
   "cell_type": "markdown",
   "metadata": {},
   "source": [
    "### Summary of the Inspections\n",
    "\n",
    "#### Quality - Content Issue\n",
    "\n",
    "* Data type issue: all column types are strings.\n",
    "* Missing values: \n",
    "    \n",
    "    1. Some funds do not have a Fund Name.\n",
    "    2. Missing values display as `''` and `-`\n",
    "    \n",
    "#### Tidiness - structurnal issue\n",
    "\n",
    "* the `Price` and the `Fund Profile` columns in `bmo` is useless."
   ]
  },
  {
   "cell_type": "markdown",
   "metadata": {},
   "source": [
    "## Clean"
   ]
  },
  {
   "cell_type": "markdown",
   "metadata": {},
   "source": [
    "### Drop the `Price` and the `Fund Profile` columns\n",
    "\n",
    "#### Define\n",
    "\n",
    "We will drop the columns since we already have a DataFrame for `Price`, and the URL doesn't help with the analysis.\n",
    "\n",
    "#### Code"
   ]
  },
  {
   "cell_type": "code",
   "execution_count": 21,
   "metadata": {},
   "outputs": [],
   "source": [
    "bmo.drop(columns=['Price', 'Fund Profile'], inplace=True)"
   ]
  },
  {
   "cell_type": "markdown",
   "metadata": {},
   "source": [
    "#### Test"
   ]
  },
  {
   "cell_type": "code",
   "execution_count": 22,
   "metadata": {},
   "outputs": [
    {
     "data": {
      "text/plain": [
       "Index(['Fund ID', 'Fund Name', 'Asset Class', 'Assets', 'Date Started'], dtype='object')"
      ]
     },
     "execution_count": 22,
     "metadata": {},
     "output_type": "execute_result"
    }
   ],
   "source": [
    "bmo.columns"
   ]
  },
  {
   "cell_type": "markdown",
   "metadata": {},
   "source": [
    "### Drop rows with empty string: `''`"
   ]
  },
  {
   "cell_type": "markdown",
   "metadata": {},
   "source": [
    "#### Define\n",
    "\n",
    "BMO did not provide the name for some funds. Since we can't and it is inappropriate to make up the fund name. We will drop the rows that have a fund name as an empty string."
   ]
  },
  {
   "cell_type": "markdown",
   "metadata": {},
   "source": [
    "#### Code"
   ]
  },
  {
   "cell_type": "code",
   "execution_count": 23,
   "metadata": {},
   "outputs": [],
   "source": [
    "bmo = bmo[bmo['Fund Name'] != '']"
   ]
  },
  {
   "cell_type": "markdown",
   "metadata": {},
   "source": [
    "#### Test"
   ]
  },
  {
   "cell_type": "code",
   "execution_count": 24,
   "metadata": {},
   "outputs": [
    {
     "data": {
      "text/plain": [
       "0"
      ]
     },
     "execution_count": 24,
     "metadata": {},
     "output_type": "execute_result"
    }
   ],
   "source": [
    "bmo['Fund Name'].duplicated().sum()"
   ]
  },
  {
   "cell_type": "markdown",
   "metadata": {},
   "source": [
    "### Fill `-` with Nan\n",
    "\n",
    "#### Define\n",
    "\n",
    "BMO puts `-` to a cell when there is a missing value. Since the official value for missing values is `nan`, we will replace `-` with `nan`.\n",
    "\n",
    "#### Code"
   ]
  },
  {
   "cell_type": "code",
   "execution_count": 25,
   "metadata": {},
   "outputs": [],
   "source": [
    "prices = prices.applymap(lambda x: np.nan if x == '-' else x)"
   ]
  },
  {
   "cell_type": "markdown",
   "metadata": {},
   "source": [
    "#### Test"
   ]
  },
  {
   "cell_type": "code",
   "execution_count": 26,
   "metadata": {},
   "outputs": [
    {
     "data": {
      "text/plain": [
       "Fund ID               0\n",
       "Effective Date        0\n",
       "NAV                   0\n",
       "Income                0\n",
       "Capital Gain          0\n",
       "Total Distribution    0\n",
       "Reinvestment Price    0\n",
       "dtype: int64"
      ]
     },
     "execution_count": 26,
     "metadata": {},
     "output_type": "execute_result"
    }
   ],
   "source": [
    "prices.applymap(lambda x: x == '-').sum()"
   ]
  },
  {
   "cell_type": "markdown",
   "metadata": {},
   "source": [
    "### Convert column data types\n",
    "\n",
    "#### Define\n",
    "\n",
    "* The `bmo` DataFrame:\n",
    "\n",
    "    * convert `Assets` to `float`.\n",
    "    * convert `Date Started` to `datetime`.\n",
    "\n",
    "* The `prices` DataFrame:\n",
    "\n",
    "    * convert `Effective Date` to `datetime`.\n",
    "    * convert all columns except `Fund ID` and `Effective Date` to `float`.\n",
    "\n",
    "\n",
    "#### Code\n",
    "\n",
    "##### `bmo`\n",
    "\n",
    "Noted that the data has comma separators"
   ]
  },
  {
   "cell_type": "code",
   "execution_count": 27,
   "metadata": {
    "scrolled": true
   },
   "outputs": [
    {
     "data": {
      "text/plain": [
       "13    4,787.3\n",
       "14    4,787.3\n",
       "15    4,787.3\n",
       "20    2,020.9\n",
       "21    3,792.8\n",
       "Name: Assets, dtype: object"
      ]
     },
     "execution_count": 27,
     "metadata": {},
     "output_type": "execute_result"
    }
   ],
   "source": [
    "bmo.loc[bmo['Assets'].apply(lambda x: ',' in x), 'Assets'].head(5)"
   ]
  },
  {
   "cell_type": "code",
   "execution_count": 28,
   "metadata": {},
   "outputs": [],
   "source": [
    "# create a lambda function to clean numeric data\n",
    "cleanNum = lambda x: float(x.lstrip('$').replace(',', '')) if type(x) == str else x"
   ]
  },
  {
   "cell_type": "code",
   "execution_count": 29,
   "metadata": {},
   "outputs": [],
   "source": [
    "bmo.loc[:, 'Assets'] = bmo.Assets.apply(cleanNum)"
   ]
  },
  {
   "cell_type": "code",
   "execution_count": 30,
   "metadata": {},
   "outputs": [],
   "source": [
    "bmo.loc[:, 'Date Started'] = pd.to_datetime(bmo['Date Started'])"
   ]
  },
  {
   "cell_type": "markdown",
   "metadata": {},
   "source": [
    "##### `prices`"
   ]
  },
  {
   "cell_type": "code",
   "execution_count": 31,
   "metadata": {},
   "outputs": [],
   "source": [
    "prices.loc[:, 'Effective Date'] = pd.to_datetime(prices['Effective Date'])"
   ]
  },
  {
   "cell_type": "code",
   "execution_count": 32,
   "metadata": {},
   "outputs": [],
   "source": [
    "targetCols = prices.columns[2:]"
   ]
  },
  {
   "cell_type": "code",
   "execution_count": 33,
   "metadata": {},
   "outputs": [],
   "source": [
    "for col in targetCols:\n",
    "    prices.loc[:, col] = prices[col].apply(cleanNum)"
   ]
  },
  {
   "cell_type": "markdown",
   "metadata": {},
   "source": [
    "#### Test"
   ]
  },
  {
   "cell_type": "code",
   "execution_count": 34,
   "metadata": {},
   "outputs": [
    {
     "data": {
      "text/plain": [
       "(Fund ID                 object\n",
       " Fund Name               object\n",
       " Asset Class             object\n",
       " Assets                 float64\n",
       " Date Started    datetime64[ns]\n",
       " dtype: object,\n",
       " Fund ID                       object\n",
       " Effective Date        datetime64[ns]\n",
       " NAV                          float64\n",
       " Income                       float64\n",
       " Capital Gain                 float64\n",
       " Total Distribution           float64\n",
       " Reinvestment Price           float64\n",
       " dtype: object)"
      ]
     },
     "execution_count": 34,
     "metadata": {},
     "output_type": "execute_result"
    }
   ],
   "source": [
    "bmo.dtypes, prices.dtypes"
   ]
  },
  {
   "cell_type": "markdown",
   "metadata": {},
   "source": [
    "## Export the datasets"
   ]
  },
  {
   "cell_type": "code",
   "execution_count": 35,
   "metadata": {},
   "outputs": [],
   "source": [
    "bmo.to_csv('resources/BMOMutualFunds.csv', index=False, encoding='utf-8')"
   ]
  },
  {
   "cell_type": "code",
   "execution_count": 36,
   "metadata": {},
   "outputs": [],
   "source": [
    "prices.to_csv('resources/BMOFundPrices.csv', index=False, encoding='utf-8')"
   ]
  },
  {
   "cell_type": "code",
   "execution_count": null,
   "metadata": {},
   "outputs": [],
   "source": []
  }
 ],
 "metadata": {
  "kernelspec": {
   "display_name": "Python 3",
   "language": "python",
   "name": "python3"
  },
  "language_info": {
   "codemirror_mode": {
    "name": "ipython",
    "version": 3
   },
   "file_extension": ".py",
   "mimetype": "text/x-python",
   "name": "python",
   "nbconvert_exporter": "python",
   "pygments_lexer": "ipython3",
   "version": "3.7.9"
  }
 },
 "nbformat": 4,
 "nbformat_minor": 2
}
